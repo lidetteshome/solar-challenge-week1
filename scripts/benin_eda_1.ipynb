{
 "cells": [
  {
   "cell_type": "code",
   "execution_count": 1,
   "id": "69b678a7",
   "metadata": {},
   "outputs": [],
   "source": [
    "# 1. Imports\n",
    "import pandas as pd\n",
    "import numpy as np\n",
    "from scipy.stats import zscore"
   ]
  },
  {
   "cell_type": "code",
   "execution_count": 2,
   "id": "2712d420",
   "metadata": {},
   "outputs": [
    {
     "data": {
      "application/vnd.microsoft.datawrangler.viewer.v0+json": {
       "columns": [
        {
         "name": "index",
         "rawType": "int64",
         "type": "integer"
        },
        {
         "name": "Timestamp",
         "rawType": "object",
         "type": "string"
        },
        {
         "name": "GHI",
         "rawType": "float64",
         "type": "float"
        },
        {
         "name": "DNI",
         "rawType": "float64",
         "type": "float"
        },
        {
         "name": "DHI",
         "rawType": "float64",
         "type": "float"
        },
        {
         "name": "ModA",
         "rawType": "float64",
         "type": "float"
        },
        {
         "name": "ModB",
         "rawType": "float64",
         "type": "float"
        },
        {
         "name": "Tamb",
         "rawType": "float64",
         "type": "float"
        },
        {
         "name": "RH",
         "rawType": "float64",
         "type": "float"
        },
        {
         "name": "WS",
         "rawType": "float64",
         "type": "float"
        },
        {
         "name": "WSgust",
         "rawType": "float64",
         "type": "float"
        },
        {
         "name": "WSstdev",
         "rawType": "float64",
         "type": "float"
        },
        {
         "name": "WD",
         "rawType": "float64",
         "type": "float"
        },
        {
         "name": "WDstdev",
         "rawType": "float64",
         "type": "float"
        },
        {
         "name": "BP",
         "rawType": "int64",
         "type": "integer"
        },
        {
         "name": "Cleaning",
         "rawType": "int64",
         "type": "integer"
        },
        {
         "name": "Precipitation",
         "rawType": "float64",
         "type": "float"
        },
        {
         "name": "TModA",
         "rawType": "float64",
         "type": "float"
        },
        {
         "name": "TModB",
         "rawType": "float64",
         "type": "float"
        },
        {
         "name": "Comments",
         "rawType": "float64",
         "type": "float"
        }
       ],
       "conversionMethod": "pd.DataFrame",
       "ref": "2260848c-c7cb-4fd5-9f93-2976e79064f5",
       "rows": [
        [
         "0",
         "2021-08-09 00:01",
         "-1.2",
         "-0.2",
         "-1.1",
         "0.0",
         "0.0",
         "26.2",
         "93.4",
         "0.0",
         "0.4",
         "0.1",
         "122.1",
         "0.0",
         "998",
         "0",
         "0.0",
         "26.3",
         "26.2",
         null
        ],
        [
         "1",
         "2021-08-09 00:02",
         "-1.1",
         "-0.2",
         "-1.1",
         "0.0",
         "0.0",
         "26.2",
         "93.6",
         "0.0",
         "0.0",
         "0.0",
         "0.0",
         "0.0",
         "998",
         "0",
         "0.0",
         "26.3",
         "26.2",
         null
        ],
        [
         "2",
         "2021-08-09 00:03",
         "-1.1",
         "-0.2",
         "-1.1",
         "0.0",
         "0.0",
         "26.2",
         "93.7",
         "0.3",
         "1.1",
         "0.5",
         "124.6",
         "1.5",
         "997",
         "0",
         "0.0",
         "26.4",
         "26.2",
         null
        ],
        [
         "3",
         "2021-08-09 00:04",
         "-1.1",
         "-0.1",
         "-1.0",
         "0.0",
         "0.0",
         "26.2",
         "93.3",
         "0.2",
         "0.7",
         "0.4",
         "120.3",
         "1.3",
         "997",
         "0",
         "0.0",
         "26.4",
         "26.3",
         null
        ],
        [
         "4",
         "2021-08-09 00:05",
         "-1.0",
         "-0.1",
         "-1.0",
         "0.0",
         "0.0",
         "26.2",
         "93.3",
         "0.1",
         "0.7",
         "0.3",
         "113.2",
         "1.0",
         "997",
         "0",
         "0.0",
         "26.4",
         "26.3",
         null
        ]
       ],
       "shape": {
        "columns": 19,
        "rows": 5
       }
      },
      "text/html": [
       "<div>\n",
       "<style scoped>\n",
       "    .dataframe tbody tr th:only-of-type {\n",
       "        vertical-align: middle;\n",
       "    }\n",
       "\n",
       "    .dataframe tbody tr th {\n",
       "        vertical-align: top;\n",
       "    }\n",
       "\n",
       "    .dataframe thead th {\n",
       "        text-align: right;\n",
       "    }\n",
       "</style>\n",
       "<table border=\"1\" class=\"dataframe\">\n",
       "  <thead>\n",
       "    <tr style=\"text-align: right;\">\n",
       "      <th></th>\n",
       "      <th>Timestamp</th>\n",
       "      <th>GHI</th>\n",
       "      <th>DNI</th>\n",
       "      <th>DHI</th>\n",
       "      <th>ModA</th>\n",
       "      <th>ModB</th>\n",
       "      <th>Tamb</th>\n",
       "      <th>RH</th>\n",
       "      <th>WS</th>\n",
       "      <th>WSgust</th>\n",
       "      <th>WSstdev</th>\n",
       "      <th>WD</th>\n",
       "      <th>WDstdev</th>\n",
       "      <th>BP</th>\n",
       "      <th>Cleaning</th>\n",
       "      <th>Precipitation</th>\n",
       "      <th>TModA</th>\n",
       "      <th>TModB</th>\n",
       "      <th>Comments</th>\n",
       "    </tr>\n",
       "  </thead>\n",
       "  <tbody>\n",
       "    <tr>\n",
       "      <th>0</th>\n",
       "      <td>2021-08-09 00:01</td>\n",
       "      <td>-1.2</td>\n",
       "      <td>-0.2</td>\n",
       "      <td>-1.1</td>\n",
       "      <td>0.0</td>\n",
       "      <td>0.0</td>\n",
       "      <td>26.2</td>\n",
       "      <td>93.4</td>\n",
       "      <td>0.0</td>\n",
       "      <td>0.4</td>\n",
       "      <td>0.1</td>\n",
       "      <td>122.1</td>\n",
       "      <td>0.0</td>\n",
       "      <td>998</td>\n",
       "      <td>0</td>\n",
       "      <td>0.0</td>\n",
       "      <td>26.3</td>\n",
       "      <td>26.2</td>\n",
       "      <td>NaN</td>\n",
       "    </tr>\n",
       "    <tr>\n",
       "      <th>1</th>\n",
       "      <td>2021-08-09 00:02</td>\n",
       "      <td>-1.1</td>\n",
       "      <td>-0.2</td>\n",
       "      <td>-1.1</td>\n",
       "      <td>0.0</td>\n",
       "      <td>0.0</td>\n",
       "      <td>26.2</td>\n",
       "      <td>93.6</td>\n",
       "      <td>0.0</td>\n",
       "      <td>0.0</td>\n",
       "      <td>0.0</td>\n",
       "      <td>0.0</td>\n",
       "      <td>0.0</td>\n",
       "      <td>998</td>\n",
       "      <td>0</td>\n",
       "      <td>0.0</td>\n",
       "      <td>26.3</td>\n",
       "      <td>26.2</td>\n",
       "      <td>NaN</td>\n",
       "    </tr>\n",
       "    <tr>\n",
       "      <th>2</th>\n",
       "      <td>2021-08-09 00:03</td>\n",
       "      <td>-1.1</td>\n",
       "      <td>-0.2</td>\n",
       "      <td>-1.1</td>\n",
       "      <td>0.0</td>\n",
       "      <td>0.0</td>\n",
       "      <td>26.2</td>\n",
       "      <td>93.7</td>\n",
       "      <td>0.3</td>\n",
       "      <td>1.1</td>\n",
       "      <td>0.5</td>\n",
       "      <td>124.6</td>\n",
       "      <td>1.5</td>\n",
       "      <td>997</td>\n",
       "      <td>0</td>\n",
       "      <td>0.0</td>\n",
       "      <td>26.4</td>\n",
       "      <td>26.2</td>\n",
       "      <td>NaN</td>\n",
       "    </tr>\n",
       "    <tr>\n",
       "      <th>3</th>\n",
       "      <td>2021-08-09 00:04</td>\n",
       "      <td>-1.1</td>\n",
       "      <td>-0.1</td>\n",
       "      <td>-1.0</td>\n",
       "      <td>0.0</td>\n",
       "      <td>0.0</td>\n",
       "      <td>26.2</td>\n",
       "      <td>93.3</td>\n",
       "      <td>0.2</td>\n",
       "      <td>0.7</td>\n",
       "      <td>0.4</td>\n",
       "      <td>120.3</td>\n",
       "      <td>1.3</td>\n",
       "      <td>997</td>\n",
       "      <td>0</td>\n",
       "      <td>0.0</td>\n",
       "      <td>26.4</td>\n",
       "      <td>26.3</td>\n",
       "      <td>NaN</td>\n",
       "    </tr>\n",
       "    <tr>\n",
       "      <th>4</th>\n",
       "      <td>2021-08-09 00:05</td>\n",
       "      <td>-1.0</td>\n",
       "      <td>-0.1</td>\n",
       "      <td>-1.0</td>\n",
       "      <td>0.0</td>\n",
       "      <td>0.0</td>\n",
       "      <td>26.2</td>\n",
       "      <td>93.3</td>\n",
       "      <td>0.1</td>\n",
       "      <td>0.7</td>\n",
       "      <td>0.3</td>\n",
       "      <td>113.2</td>\n",
       "      <td>1.0</td>\n",
       "      <td>997</td>\n",
       "      <td>0</td>\n",
       "      <td>0.0</td>\n",
       "      <td>26.4</td>\n",
       "      <td>26.3</td>\n",
       "      <td>NaN</td>\n",
       "    </tr>\n",
       "  </tbody>\n",
       "</table>\n",
       "</div>"
      ],
      "text/plain": [
       "          Timestamp  GHI  DNI  DHI  ModA  ModB  Tamb    RH   WS  WSgust  \\\n",
       "0  2021-08-09 00:01 -1.2 -0.2 -1.1   0.0   0.0  26.2  93.4  0.0     0.4   \n",
       "1  2021-08-09 00:02 -1.1 -0.2 -1.1   0.0   0.0  26.2  93.6  0.0     0.0   \n",
       "2  2021-08-09 00:03 -1.1 -0.2 -1.1   0.0   0.0  26.2  93.7  0.3     1.1   \n",
       "3  2021-08-09 00:04 -1.1 -0.1 -1.0   0.0   0.0  26.2  93.3  0.2     0.7   \n",
       "4  2021-08-09 00:05 -1.0 -0.1 -1.0   0.0   0.0  26.2  93.3  0.1     0.7   \n",
       "\n",
       "   WSstdev     WD  WDstdev   BP  Cleaning  Precipitation  TModA  TModB  \\\n",
       "0      0.1  122.1      0.0  998         0            0.0   26.3   26.2   \n",
       "1      0.0    0.0      0.0  998         0            0.0   26.3   26.2   \n",
       "2      0.5  124.6      1.5  997         0            0.0   26.4   26.2   \n",
       "3      0.4  120.3      1.3  997         0            0.0   26.4   26.3   \n",
       "4      0.3  113.2      1.0  997         0            0.0   26.4   26.3   \n",
       "\n",
       "   Comments  \n",
       "0       NaN  \n",
       "1       NaN  \n",
       "2       NaN  \n",
       "3       NaN  \n",
       "4       NaN  "
      ]
     },
     "execution_count": 2,
     "metadata": {},
     "output_type": "execute_result"
    }
   ],
   "source": [
    "# 2. Load dataset\n",
    "df = pd.read_csv(\"benin-malanville.csv\")\n",
    "df.head()"
   ]
  },
  {
   "cell_type": "code",
   "execution_count": 3,
   "id": "95f91721",
   "metadata": {},
   "outputs": [
    {
     "name": "stdout",
     "output_type": "stream",
     "text": [
      "Shape: (525600, 19)\n",
      "Columns: ['Timestamp', 'GHI', 'DNI', 'DHI', 'ModA', 'ModB', 'Tamb', 'RH', 'WS', 'WSgust', 'WSstdev', 'WD', 'WDstdev', 'BP', 'Cleaning', 'Precipitation', 'TModA', 'TModB', 'Comments']\n"
     ]
    }
   ],
   "source": [
    "# 3. Preview structures\n",
    "print(\"Shape:\", df.shape)\n",
    "print(\"Columns:\", df.columns.tolist())"
   ]
  },
  {
   "cell_type": "code",
   "execution_count": 4,
   "id": "991d49d4",
   "metadata": {},
   "outputs": [
    {
     "name": "stdout",
     "output_type": "stream",
     "text": [
      "\n",
      " Negative Irradiance Values:\n",
      "GHI: 258847 negative values\n",
      "DNI: 275987 negative values\n",
      "DHI: 259182 negative values\n"
     ]
    }
   ],
   "source": [
    "# 4. Check for negative irradiance values\n",
    "irradiance_cols = ['GHI', 'DNI', 'DHI']\n",
    "\n",
    "print(\"\\n Negative Irradiance Values:\")\n",
    "for col in irradiance_cols:\n",
    "    negative_count = df[df[col] < 0].shape[0]\n",
    "    print(f\"{col}: {negative_count} negative values\")"
   ]
  },
  {
   "cell_type": "code",
   "execution_count": 5,
   "id": "2fa7a700",
   "metadata": {},
   "outputs": [
    {
     "name": "stdout",
     "output_type": "stream",
     "text": [
      "\n",
      " Outlier Counts (Z-score > 3):)\n",
      "GHI         89\n",
      "DHI       3738\n",
      "ModA        27\n",
      "ModB        63\n",
      "WS        3109\n",
      "WSgust    3500\n",
      "dtype: int64\n"
     ]
    }
   ],
   "source": [
    "# 5. Outlier detection using Z-score\n",
    "zscore_cols = ['GHI', 'DNI', 'DHI', 'ModA', 'ModB', 'WS', 'WSgust']\n",
    "z_scores = df[zscore_cols].apply(zscore)\n",
    "\n",
    "outlier_mask = (np.abs(z_scores) > 3)\n",
    "outlier_counts = outlier_mask.sum()\n",
    "\n",
    "print(\"\\n Outlier Counts (Z-score > 3):)\")\n",
    "print(outlier_counts[outlier_counts > 0])"
   ]
  },
  {
   "cell_type": "code",
   "execution_count": 6,
   "id": "51e3be94",
   "metadata": {},
   "outputs": [
    {
     "name": "stdout",
     "output_type": "stream",
     "text": [
      "\n",
      " Missing Values:\n",
      "Comments    525600\n",
      "dtype: int64\n"
     ]
    }
   ],
   "source": [
    "# 6. Missing values check\n",
    "missing = df.isna().sum()\n",
    "print(\"\\n Missing Values:\")\n",
    "print(missing[missing > 0])"
   ]
  },
  {
   "cell_type": "code",
   "execution_count": 7,
   "id": "f79d24a2",
   "metadata": {},
   "outputs": [
    {
     "name": "stdout",
     "output_type": "stream",
     "text": [
      "\n",
      " Empty 'Comments' rows: 525600 out of 525600\n"
     ]
    }
   ],
   "source": [
    "# 7. Check if 'Comments' is empty\n",
    "if 'Comments' in df.columns:\n",
    "    empty_comments = df['Comments'].isna()\n",
    "    empty_count = empty_comments.sum()\n",
    "    print(f\"\\n Empty 'Comments' rows: {empty_count} out of {len(df)}\")"
   ]
  },
  {
   "cell_type": "code",
   "execution_count": null,
   "id": "b514fc06",
   "metadata": {},
   "outputs": [],
   "source": []
  }
 ],
 "metadata": {
  "kernelspec": {
   "display_name": ".venv",
   "language": "python",
   "name": "python3"
  },
  "language_info": {
   "codemirror_mode": {
    "name": "ipython",
    "version": 3
   },
   "file_extension": ".py",
   "mimetype": "text/x-python",
   "name": "python",
   "nbconvert_exporter": "python",
   "pygments_lexer": "ipython3",
   "version": "3.12.7"
  }
 },
 "nbformat": 4,
 "nbformat_minor": 5
}
